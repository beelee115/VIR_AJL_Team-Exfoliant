{
 "cells": [
  {
   "cell_type": "code",
   "execution_count": 1,
   "id": "f38752ef",
   "metadata": {
    "_cell_guid": "b1076dfc-b9ad-4769-8c92-a6c4dae69d19",
    "_uuid": "8f2839f25d086af736a60e9eeb907d3b93b6e0e5",
    "execution": {
     "iopub.execute_input": "2025-03-22T18:44:06.475087Z",
     "iopub.status.busy": "2025-03-22T18:44:06.474689Z",
     "iopub.status.idle": "2025-03-22T18:44:06.479919Z",
     "shell.execute_reply": "2025-03-22T18:44:06.478880Z"
    },
    "papermill": {
     "duration": 0.015785,
     "end_time": "2025-03-22T18:44:06.481421",
     "exception": false,
     "start_time": "2025-03-22T18:44:06.465636",
     "status": "completed"
    },
    "tags": []
   },
   "outputs": [],
   "source": [
    "# # This Python 3 environment comes with many helpful analytics libraries installed\n",
    "# # It is defined by the kaggle/python Docker image: https://github.com/kaggle/docker-python\n",
    "# # For example, here's several helpful packages to load\n",
    "\n",
    "# import numpy as np # linear algebra\n",
    "# import pandas as pd # data processing, CSV file I/O (e.g. pd.read_csv)\n",
    "\n",
    "# # Input data files are available in the read-only \"../input/\" directory\n",
    "# # For example, running this (by clicking run or pressing Shift+Enter) will list all files under the input directory\n",
    "\n",
    "# import os\n",
    "# for dirname, _, filenames in os.walk('/kaggle/input'):\n",
    "#     for filename in filenames:\n",
    "#         print(os.path.join(dirname, filename))\n",
    "\n",
    "# # You can write up to 20GB to the current directory (/kaggle/working/) that gets preserved as output when you create a version using \"Save & Run All\" \n",
    "# # You can also write temporary files to /kaggle/temp/, but they won't be saved outside of the current session"
   ]
  },
  {
   "cell_type": "markdown",
   "id": "fd85c2c3",
   "metadata": {
    "papermill": {
     "duration": 0.0063,
     "end_time": "2025-03-22T18:44:06.494233",
     "exception": false,
     "start_time": "2025-03-22T18:44:06.487933",
     "status": "completed"
    },
    "tags": []
   },
   "source": [
    "# A Simple Starter Code for the AJL Competition\n",
    "\n",
    "@Cindy Deng\n",
    "\n",
    "---\n",
    "\n",
    "\n",
    "Hi! This starter code is designed to help you get familiar with basic Kaggle operations and guide you through the basic workflow of a machine learning project. \n",
    "\n",
    "The code outlines essential steps including data loading, preprocessing, model building, training, and generating predictions. Each section serves as a foundation, but there are many ways to enhance each step to improve your final model's accuracy. Feel free to experiment with different data augmentation techniques, model architectures, and tuning methods to optimize your final results! Some amazing tutorials are available through your AI Studio course in Canvas / in the 'Resource' section of this Kaggle competition.\n",
    "\n",
    "Good luck and have fun!\n",
    "\n",
    "---"
   ]
  },
  {
   "cell_type": "markdown",
   "id": "88d0c270",
   "metadata": {
    "papermill": {
     "duration": 0.005601,
     "end_time": "2025-03-22T18:44:06.505863",
     "exception": false,
     "start_time": "2025-03-22T18:44:06.500262",
     "status": "completed"
    },
    "tags": []
   },
   "source": [
    "## Note - About file path\n",
    "\n",
    "You could use the cell above to print the names of the file directories and get the following directories:\n",
    "\n",
    "```\n",
    "/kaggle/input/bttai-ajl-2025/sample_submission.csv\n",
    "/kaggle/input/bttai-ajl-2025/train.csv\n",
    "/kaggle/input/bttai-ajl-2025/test.csv\n",
    "/kaggle/input/bttai-ajl-2025/test/test/e0374ae6c1362ff183cfba28ded5421b.jpg\n",
    "/kaggle/input/bttai-ajl-2025/test/test/437159c605260bdd079af230566af291.jpg\n",
    "...\n",
    "...\n",
    "/kaggle/input/bttai-ajl-2025/train/train/dermatomyositis/11271bdf2598afdd4260db3125e1f6a5.jpg\n",
    "/kaggle/input/bttai-ajl-2025/train/train/dermatomyositis/732819951dcf2b53d15ea7b8bb123b71.jpg\n",
    "/kaggle/input/bttai-ajl-2025/train/train/dermatomyositis/6dcc7a8abb5e1c6e670101f4b6231246.jpg\n",
    "/kaggle/input/bttai-ajl-2025/train/train/dermatomyositis/e63c3b3f0ab8905e204fe467cc7411f9.jpg\n",
    "...\n",
    "...\n",
    "```\n",
    "\n"
   ]
  },
  {
   "cell_type": "markdown",
   "id": "468cf59d",
   "metadata": {
    "papermill": {
     "duration": 0.005634,
     "end_time": "2025-03-22T18:44:06.517455",
     "exception": false,
     "start_time": "2025-03-22T18:44:06.511821",
     "status": "completed"
    },
    "tags": []
   },
   "source": [
    "## 1. Import Necessary Libraries"
   ]
  },
  {
   "cell_type": "code",
   "execution_count": 2,
   "id": "4f3daec1",
   "metadata": {
    "execution": {
     "iopub.execute_input": "2025-03-22T18:44:06.530601Z",
     "iopub.status.busy": "2025-03-22T18:44:06.530277Z",
     "iopub.status.idle": "2025-03-22T18:44:23.607789Z",
     "shell.execute_reply": "2025-03-22T18:44:23.606745Z"
    },
    "papermill": {
     "duration": 17.086377,
     "end_time": "2025-03-22T18:44:23.609849",
     "exception": false,
     "start_time": "2025-03-22T18:44:06.523472",
     "status": "completed"
    },
    "tags": []
   },
   "outputs": [],
   "source": [
    "# 1. Import Necessary Libraries\n",
    "import pandas as pd\n",
    "import numpy as np\n",
    "import os\n",
    "from sklearn.model_selection import train_test_split\n",
    "from sklearn.preprocessing import LabelEncoder\n",
    "from tensorflow.keras.preprocessing.image import ImageDataGenerator\n",
    "from tensorflow.keras.models import Sequential\n",
    "from tensorflow.keras.layers import Conv2D, MaxPooling2D, Flatten, Dense, Dropout\n",
    "from tensorflow.keras.callbacks import EarlyStopping\n",
    "\n",
    "# Explanation:\n",
    "# - pandas and numpy: for data manipulation\n",
    "# - sklearn: for splitting data and encoding labels\n",
    "# - tensorflow.keras: for building and training the neural network"
   ]
  },
  {
   "cell_type": "markdown",
   "id": "10806d30",
   "metadata": {
    "papermill": {
     "duration": 0.005587,
     "end_time": "2025-03-22T18:44:23.621817",
     "exception": false,
     "start_time": "2025-03-22T18:44:23.616230",
     "status": "completed"
    },
    "tags": []
   },
   "source": [
    "## 2. Load Data\n",
    "\n",
    "Make sure to verify the file paths if you're running on a different platform."
   ]
  },
  {
   "cell_type": "code",
   "execution_count": 3,
   "id": "1b47f5d4",
   "metadata": {
    "execution": {
     "iopub.execute_input": "2025-03-22T18:44:23.635196Z",
     "iopub.status.busy": "2025-03-22T18:44:23.634540Z",
     "iopub.status.idle": "2025-03-22T18:44:23.710326Z",
     "shell.execute_reply": "2025-03-22T18:44:23.709243Z"
    },
    "papermill": {
     "duration": 0.084669,
     "end_time": "2025-03-22T18:44:23.712420",
     "exception": false,
     "start_time": "2025-03-22T18:44:23.627751",
     "status": "completed"
    },
    "tags": []
   },
   "outputs": [],
   "source": [
    "# 2. Load Data\n",
    "train_df = pd.read_csv('/kaggle/input/bttai-ajl-2025/train.csv')\n",
    "test_df = pd.read_csv('/kaggle/input/bttai-ajl-2025/test.csv')\n",
    "\n",
    "# Add .jpg extension to md5hash column to reference the file_name\n",
    "train_df['md5hash'] = train_df['md5hash'].astype(str) + '.jpg'\n",
    "test_df['md5hash'] = test_df['md5hash'].astype(str) + '.jpg'\n",
    "test_df[\"md5hash\"] = test_df[\"md5hash\"].str.replace(\".jpg\", \"\", regex=False)\n",
    "\n",
    "\n",
    "# Combine label and md5hash to form the correct path\n",
    "train_df['file_path'] = train_df.apply(lambda row: os.path.join('/kaggle/input/bttai-ajl-2025/train/train', row['label'], row['md5hash']), axis=1)"
   ]
  },
  {
   "cell_type": "code",
   "execution_count": 4,
   "id": "b8bf66de",
   "metadata": {
    "execution": {
     "iopub.execute_input": "2025-03-22T18:44:23.725931Z",
     "iopub.status.busy": "2025-03-22T18:44:23.725596Z",
     "iopub.status.idle": "2025-03-22T18:44:23.739070Z",
     "shell.execute_reply": "2025-03-22T18:44:23.737672Z"
    },
    "papermill": {
     "duration": 0.022574,
     "end_time": "2025-03-22T18:44:23.741184",
     "exception": false,
     "start_time": "2025-03-22T18:44:23.718610",
     "status": "completed"
    },
    "tags": []
   },
   "outputs": [
    {
     "name": "stdout",
     "output_type": "stream",
     "text": [
      "                                md5hash  fitzpatrick_scale  \\\n",
      "0  fd06d13de341cc75ad679916c5d7e6a6.jpg                  4   \n",
      "1  a4bb4e5206c4e89a303f470576fc5253.jpg                  1   \n",
      "2  c94ce27e389f96bda998e7c3fa5c4a2e.jpg                  5   \n",
      "3  ebcf2b50dd943c700d4e2b586fcd4425.jpg                  3   \n",
      "4  c77d6c895f05fea73a8f3704307036c0.jpg                  1   \n",
      "\n",
      "   fitzpatrick_centaur                             label nine_partition_label  \\\n",
      "0                    4                 prurigo-nodularis     benign-epidermal   \n",
      "1                    1  basal-cell-carcinoma-morpheiform  malignant-epidermal   \n",
      "2                    5                            keloid         inflammatory   \n",
      "3                    3              basal-cell-carcinoma  malignant-epidermal   \n",
      "4                    1                 prurigo-nodularis     benign-epidermal   \n",
      "\n",
      "  three_partition_label            qc  ddi_scale  \\\n",
      "0                benign           NaN         34   \n",
      "1             malignant           NaN         12   \n",
      "2        non-neoplastic  1 Diagnostic         56   \n",
      "3             malignant           NaN         34   \n",
      "4                benign           NaN         12   \n",
      "\n",
      "                                           file_path  \n",
      "0  /kaggle/input/bttai-ajl-2025/train/train/pruri...  \n",
      "1  /kaggle/input/bttai-ajl-2025/train/train/basal...  \n",
      "2  /kaggle/input/bttai-ajl-2025/train/train/keloi...  \n",
      "3  /kaggle/input/bttai-ajl-2025/train/train/basal...  \n",
      "4  /kaggle/input/bttai-ajl-2025/train/train/pruri...  \n"
     ]
    }
   ],
   "source": [
    "# Check the first few rows to understand the structure\n",
    "print(train_df.head())"
   ]
  },
  {
   "cell_type": "code",
   "execution_count": 5,
   "id": "8b8bf3e9",
   "metadata": {
    "execution": {
     "iopub.execute_input": "2025-03-22T18:44:23.755231Z",
     "iopub.status.busy": "2025-03-22T18:44:23.754824Z",
     "iopub.status.idle": "2025-03-22T18:44:24.742211Z",
     "shell.execute_reply": "2025-03-22T18:44:24.740955Z"
    },
    "papermill": {
     "duration": 0.996199,
     "end_time": "2025-03-22T18:44:24.743903",
     "exception": false,
     "start_time": "2025-03-22T18:44:23.747704",
     "status": "completed"
    },
    "tags": []
   },
   "outputs": [
    {
     "data": {
      "image/png": "[encoded data removed]",
      "text/plain": [
       "<Figure size 1200x600 with 1 Axes>"
      ]
     },
     "metadata": {},
     "output_type": "display_data"
    }
   ],
   "source": [
    "import matplotlib.pyplot as plt\n",
    "import seaborn as sns\n",
    "\n",
    "plt.figure(figsize=(12, 6))\n",
    "sns.countplot(y=train_df['label'], order=train_df['label'].value_counts().index)\n",
    "plt.title(\"Class Distribution\")\n",
    "plt.xlabel(\"Count\")\n",
    "plt.ylabel(\"Label\")\n",
    "plt.show()"
   ]
  },
  {
   "cell_type": "code",
   "execution_count": 6,
   "id": "98cf1f81",
   "metadata": {
    "execution": {
     "iopub.execute_input": "2025-03-22T18:44:24.761099Z",
     "iopub.status.busy": "2025-03-22T18:44:24.760450Z",
     "iopub.status.idle": "2025-03-22T18:44:24.885728Z",
     "shell.execute_reply": "2025-03-22T18:44:24.884681Z"
    },
    "papermill": {
     "duration": 0.135716,
     "end_time": "2025-03-22T18:44:24.887608",
     "exception": false,
     "start_time": "2025-03-22T18:44:24.751892",
     "status": "completed"
    },
    "tags": []
   },
   "outputs": [
    {
     "data": {
      "image/png": "[encoded data removed]",
      "text/plain": [
       "<Figure size 800x500 with 1 Axes>"
      ]
     },
     "metadata": {},
     "output_type": "display_data"
    }
   ],
   "source": [
    "plt.figure(figsize=(8, 5))\n",
    "sns.boxplot(x=train_df['ddi_scale'])\n",
    "plt.title(\"Outlier Detection in ddi_scale\")\n",
    "plt.show()"
   ]
  },
  {
   "cell_type": "code",
   "execution_count": 7,
   "id": "d02eb840",
   "metadata": {
    "execution": {
     "iopub.execute_input": "2025-03-22T18:44:24.904929Z",
     "iopub.status.busy": "2025-03-22T18:44:24.904575Z",
     "iopub.status.idle": "2025-03-22T18:44:24.912713Z",
     "shell.execute_reply": "2025-03-22T18:44:24.911474Z"
    },
    "papermill": {
     "duration": 0.01866,
     "end_time": "2025-03-22T18:44:24.914413",
     "exception": false,
     "start_time": "2025-03-22T18:44:24.895753",
     "status": "completed"
    },
    "tags": []
   },
   "outputs": [
    {
     "name": "stdout",
     "output_type": "stream",
     "text": [
      "Missing Values:\n",
      " qc    2770\n",
      "dtype: int64\n"
     ]
    }
   ],
   "source": [
    "missing_values = train_df.isnull().sum()\n",
    "print(\"Missing Values:\\n\", missing_values[missing_values > 0])"
   ]
  },
  {
   "cell_type": "code",
   "execution_count": 8,
   "id": "fee1b196",
   "metadata": {
    "execution": {
     "iopub.execute_input": "2025-03-22T18:44:24.931605Z",
     "iopub.status.busy": "2025-03-22T18:44:24.931235Z",
     "iopub.status.idle": "2025-03-22T18:44:24.940692Z",
     "shell.execute_reply": "2025-03-22T18:44:24.939600Z"
    },
    "papermill": {
     "duration": 0.019897,
     "end_time": "2025-03-22T18:44:24.942404",
     "exception": false,
     "start_time": "2025-03-22T18:44:24.922507",
     "status": "completed"
    },
    "tags": []
   },
   "outputs": [
    {
     "name": "stdout",
     "output_type": "stream",
     "text": [
      "🔍 Duplicate Rows Found: 0\n"
     ]
    }
   ],
   "source": [
    "duplicate_rows = train_df.duplicated().sum()\n",
    "print(f\"🔍 Duplicate Rows Found: {duplicate_rows}\")"
   ]
  },
  {
   "cell_type": "code",
   "execution_count": 9,
   "id": "0aa84f84",
   "metadata": {
    "execution": {
     "iopub.execute_input": "2025-03-22T18:44:24.959751Z",
     "iopub.status.busy": "2025-03-22T18:44:24.959326Z",
     "iopub.status.idle": "2025-03-22T18:44:25.152253Z",
     "shell.execute_reply": "2025-03-22T18:44:25.151120Z"
    },
    "papermill": {
     "duration": 0.203472,
     "end_time": "2025-03-22T18:44:25.153929",
     "exception": false,
     "start_time": "2025-03-22T18:44:24.950457",
     "status": "completed"
    },
    "tags": []
   },
   "outputs": [
    {
     "name": "stderr",
     "output_type": "stream",
     "text": [
      "/usr/local/lib/python3.10/dist-packages/seaborn/_oldcore.py:1765: FutureWarning: unique with argument that is not not a Series, Index, ExtensionArray, or np.ndarray is deprecated and will raise in a future version.\n",
      "  order = pd.unique(vector)\n"
     ]
    },
    {
     "data": {
      "image/png": "[encoded data removed]",
      "text/plain": [
       "<Figure size 800x500 with 1 Axes>"
      ]
     },
     "metadata": {},
     "output_type": "display_data"
    }
   ],
   "source": [
    "import matplotlib.pyplot as plt\n",
    "import seaborn as sns\n",
    "\n",
    "# Define Fitzpatrick skin tone shades (matching real-world tones)\n",
    "fitzpatrick_colors = {\n",
    "    1: \"#ffe0d6\",  # Very fair\n",
    "    2: \"#f4c2c2\",  # Fair\n",
    "    3: \"#d9a797\",  # Medium\n",
    "    4: \"#a56b46\",  # Olive\n",
    "    5: \"#703b25\",  # Dark Brown\n",
    "    6: \"#3b1e10\"   # Deeply Pigmented\n",
    "}\n",
    "\n",
    "# Filter out invalid values\n",
    "valid_skin_types = [1, 2, 3, 4, 5, 6]\n",
    "train_df = train_df[train_df['fitzpatrick_scale'].isin(valid_skin_types)]\n",
    "\n",
    "# Sort unique Fitzpatrick types\n",
    "unique_fitzpatrick = sorted(train_df['fitzpatrick_scale'].unique())\n",
    "\n",
    "# Create the plot\n",
    "plt.figure(figsize=(8, 5))\n",
    "sns.barplot(\n",
    "    x=unique_fitzpatrick, \n",
    "    y=[(train_df['fitzpatrick_scale'] == i).sum() for i in unique_fitzpatrick], \n",
    "    palette=[fitzpatrick_colors[i] for i in unique_fitzpatrick]\n",
    ")\n",
    "\n",
    "# Labels and title\n",
    "plt.title(\"Distribution of Fitzpatrick Skin Types\")\n",
    "plt.xlabel(\"Fitzpatrick Skin Type\")\n",
    "plt.ylabel(\"Count\")\n",
    "\n",
    "# Show the plot\n",
    "plt.show()\n"
   ]
  },
  {
   "cell_type": "markdown",
   "id": "4cbff2d1",
   "metadata": {
    "papermill": {
     "duration": 0.008123,
     "end_time": "2025-03-22T18:44:25.170908",
     "exception": false,
     "start_time": "2025-03-22T18:44:25.162785",
     "status": "completed"
    },
    "tags": []
   },
   "source": [
    "## 3. Data Preprocessing\n",
    "\n",
    "\n",
    "This section demonstrates basic preprocessing techniques. To enhance data quality and model performance, consider incorporating more advanced preprocessing methods.\n",
    "\n",
    "For further guidance, feel free to take a look at the [Image Preprocessing tutorial](https://colab.research.google.com/drive/1-ItNcRMbZBE6BCwPT-wD8m3YmHqwHxme?usp=sharing)  available in the 'Resources' section of this Kaggle competition.\n"
   ]
  },
  {
   "cell_type": "code",
   "execution_count": 10,
   "id": "8001c78d",
   "metadata": {
    "execution": {
     "iopub.execute_input": "2025-03-22T18:44:25.189549Z",
     "iopub.status.busy": "2025-03-22T18:44:25.189168Z",
     "iopub.status.idle": "2025-03-22T18:44:25.199650Z",
     "shell.execute_reply": "2025-03-22T18:44:25.198282Z"
    },
    "papermill": {
     "duration": 0.02188,
     "end_time": "2025-03-22T18:44:25.201526",
     "exception": false,
     "start_time": "2025-03-22T18:44:25.179646",
     "status": "completed"
    },
    "tags": []
   },
   "outputs": [],
   "source": [
    "# 3. Data Preprocessing\n",
    "# Encode the labels\n",
    "label_encoder = LabelEncoder()\n",
    "train_df['encoded_label'] = label_encoder.fit_transform(train_df['label'])\n",
    "\n",
    "# Split the data into training and validation sets\n",
    "train_data, val_data = train_test_split(train_df, test_size=0.2, random_state=42)\n",
    "\n",
    "# Define image data generators for training and validation\n",
    "train_datagen = ImageDataGenerator(rescale=1./255)\n",
    "val_datagen = ImageDataGenerator(rescale=1./255)\n",
    "\n",
    "# Define the directory paths\n",
    "train_dir = '/kaggle/input/bttai-ajl-2025/train/train/'"
   ]
  },
  {
   "cell_type": "code",
   "execution_count": 11,
   "id": "51e299a1",
   "metadata": {
    "execution": {
     "iopub.execute_input": "2025-03-22T18:44:25.220926Z",
     "iopub.status.busy": "2025-03-22T18:44:25.220580Z",
     "iopub.status.idle": "2025-03-22T18:44:25.226124Z",
     "shell.execute_reply": "2025-03-22T18:44:25.224962Z"
    },
    "papermill": {
     "duration": 0.016982,
     "end_time": "2025-03-22T18:44:25.227721",
     "exception": false,
     "start_time": "2025-03-22T18:44:25.210739",
     "status": "completed"
    },
    "tags": []
   },
   "outputs": [],
   "source": [
    "def create_generator(dataframe, directory, batch_size=32, target_size=(128, 128)):\n",
    "    \"\"\"\n",
    "    Template function to create image generators.\n",
    "    Students should complete this function to load images and labels properly.\n",
    "    \"\"\"\n",
    "    # Fill in the correct flow_from_dataframe parameters\n",
    "    generator = train_datagen.flow_from_dataframe(\n",
    "        dataframe=dataframe,\n",
    "        directory=directory,\n",
    "        x_col='file_path',  # Use combined path\n",
    "        y_col='encoded_label',\n",
    "        target_size=target_size,\n",
    "        batch_size=batch_size,\n",
    "        class_mode='raw',\n",
    "        validate_filenames=False  # Disable strict filename validation\n",
    "    )\n",
    "    return generator"
   ]
  },
  {
   "cell_type": "code",
   "execution_count": 12,
   "id": "220625d5",
   "metadata": {
    "execution": {
     "iopub.execute_input": "2025-03-22T18:44:25.246719Z",
     "iopub.status.busy": "2025-03-22T18:44:25.246368Z",
     "iopub.status.idle": "2025-03-22T18:44:25.259124Z",
     "shell.execute_reply": "2025-03-22T18:44:25.258068Z"
    },
    "papermill": {
     "duration": 0.024117,
     "end_time": "2025-03-22T18:44:25.260913",
     "exception": false,
     "start_time": "2025-03-22T18:44:25.236796",
     "status": "completed"
    },
    "tags": []
   },
   "outputs": [
    {
     "name": "stdout",
     "output_type": "stream",
     "text": [
      "Found 2201 non-validated image filenames.\n",
      "Found 551 non-validated image filenames.\n"
     ]
    }
   ],
   "source": [
    "# Create generators\n",
    "train_generator = create_generator(train_data, train_dir)\n",
    "val_generator = create_generator(val_data, train_dir)"
   ]
  },
  {
   "cell_type": "code",
   "execution_count": 13,
   "id": "e5a71f51",
   "metadata": {
    "execution": {
     "iopub.execute_input": "2025-03-22T18:44:25.280061Z",
     "iopub.status.busy": "2025-03-22T18:44:25.279660Z",
     "iopub.status.idle": "2025-03-22T18:44:25.308620Z",
     "shell.execute_reply": "2025-03-22T18:44:25.307252Z"
    },
    "papermill": {
     "duration": 0.040691,
     "end_time": "2025-03-22T18:44:25.310540",
     "exception": false,
     "start_time": "2025-03-22T18:44:25.269849",
     "status": "completed"
    },
    "tags": []
   },
   "outputs": [
    {
     "name": "stdout",
     "output_type": "stream",
     "text": [
      "Shape of DataFrame: (2860, 8)\n",
      "Column names: Index(['md5hash', 'fitzpatrick_scale', 'fitzpatrick_centaur', 'label',\n",
      "       'nine_partition_label', 'three_partition_label', 'qc', 'ddi_scale'],\n",
      "      dtype='object')\n",
      "Data types:\n",
      " md5hash                  object\n",
      "fitzpatrick_scale         int64\n",
      "fitzpatrick_centaur       int64\n",
      "label                    object\n",
      "nine_partition_label     object\n",
      "three_partition_label    object\n",
      "qc                       object\n",
      "ddi_scale                 int64\n",
      "dtype: object\n",
      "Summary statistics:\n",
      "        fitzpatrick_scale  fitzpatrick_centaur    ddi_scale\n",
      "count        2860.000000          2860.000000  2860.000000\n",
      "mean            2.524476             2.095455    23.547552\n",
      "std             1.474428             1.510942    15.530522\n",
      "min            -1.000000            -1.000000    -1.000000\n",
      "25%             2.000000             1.000000    12.000000\n",
      "50%             2.000000             2.000000    12.000000\n",
      "75%             3.000000             3.000000    34.000000\n",
      "max             6.000000             6.000000    56.000000\n"
     ]
    }
   ],
   "source": [
    "train_csv_path = '/kaggle/input/bttai-ajl-2025/train.csv'\n",
    "train_df = pd.read_csv(train_csv_path)\n",
    "print(\"Shape of DataFrame:\", train_df.shape)\n",
    "print(\"Column names:\", train_df.columns)\n",
    "print(\"Data types:\\n\", train_df.dtypes)\n",
    "print(\"Summary statistics:\\n\", train_df.describe())"
   ]
  },
  {
   "cell_type": "code",
   "execution_count": 14,
   "id": "aaa956e8",
   "metadata": {
    "execution": {
     "iopub.execute_input": "2025-03-22T18:44:25.330180Z",
     "iopub.status.busy": "2025-03-22T18:44:25.329774Z",
     "iopub.status.idle": "2025-03-22T18:44:25.337502Z",
     "shell.execute_reply": "2025-03-22T18:44:25.336251Z"
    },
    "papermill": {
     "duration": 0.019434,
     "end_time": "2025-03-22T18:44:25.339122",
     "exception": false,
     "start_time": "2025-03-22T18:44:25.319688",
     "status": "completed"
    },
    "tags": []
   },
   "outputs": [
    {
     "name": "stdout",
     "output_type": "stream",
     "text": [
      "Class Distribution:\n",
      " label\n",
      "squamous-cell-carcinoma               407\n",
      "basal-cell-carcinoma                  328\n",
      "folliculitis                          239\n",
      "acne-vulgaris                         234\n",
      "melanoma                              181\n",
      "eczema                                143\n",
      "acne                                  128\n",
      "mycosis-fungoides                     127\n",
      "actinic-keratosis                     122\n",
      "prurigo-nodularis                     119\n",
      "kaposi-sarcoma                        109\n",
      "keloid                                109\n",
      "dermatomyositis                       106\n",
      "superficial-spreading-melanoma-ssm     83\n",
      "pyogenic-granuloma                     79\n",
      "malignant-melanoma                     78\n",
      "epidermal-nevus                        64\n",
      "dyshidrotic-eczema                     58\n",
      "dermatofibroma                         55\n",
      "seborrheic-keratosis                   48\n",
      "basal-cell-carcinoma-morpheiform       43\n",
      "Name: count, dtype: int64\n"
     ]
    }
   ],
   "source": [
    "class_column = \"label\"  # Change to the correct column name\n",
    "if class_column in train_df.columns:\n",
    "    class_distribution = train_df[class_column].value_counts()\n",
    "    print(\"Class Distribution:\\n\", class_distribution)\n",
    "else:\n",
    "    print(f\"Error: '{class_column}' column not found in dataset.\")"
   ]
  },
  {
   "cell_type": "code",
   "execution_count": 15,
   "id": "6ebd3590",
   "metadata": {
    "execution": {
     "iopub.execute_input": "2025-03-22T18:44:25.358371Z",
     "iopub.status.busy": "2025-03-22T18:44:25.357948Z",
     "iopub.status.idle": "2025-03-22T18:44:25.488486Z",
     "shell.execute_reply": "2025-03-22T18:44:25.487222Z"
    },
    "papermill": {
     "duration": 0.142609,
     "end_time": "2025-03-22T18:44:25.490794",
     "exception": false,
     "start_time": "2025-03-22T18:44:25.348185",
     "status": "completed"
    },
    "tags": []
   },
   "outputs": [
    {
     "name": "stdout",
     "output_type": "stream",
     "text": [
      "Found 2860 images belonging to 21 classes.\n"
     ]
    }
   ],
   "source": [
    "from tensorflow.keras.preprocessing.image import ImageDataGenerator\n",
    "\n",
    "datagen = ImageDataGenerator(rescale=1./255)  # Normalize pixel values\n",
    "\n",
    "train_generator = datagen.flow_from_directory(\n",
    "    train_dir,\n",
    "    target_size=(224, 224),  # Resize images\n",
    "    batch_size=32,\n",
    "    class_mode='categorical'  # Adjust based on your labels (e.g., 'binary' for two classes)\n",
    ")"
   ]
  },
  {
   "cell_type": "markdown",
   "id": "5286e81a",
   "metadata": {
    "papermill": {
     "duration": 0.014076,
     "end_time": "2025-03-22T18:44:25.518799",
     "exception": false,
     "start_time": "2025-03-22T18:44:25.504723",
     "status": "completed"
    },
    "tags": []
   },
   "source": [
    "## 4. Build the model\n"
   ]
  },
  {
   "cell_type": "code",
   "execution_count": 16,
   "id": "ea744a44",
   "metadata": {
    "execution": {
     "iopub.execute_input": "2025-03-22T18:44:25.548159Z",
     "iopub.status.busy": "2025-03-22T18:44:25.547764Z",
     "iopub.status.idle": "2025-03-22T18:44:25.769209Z",
     "shell.execute_reply": "2025-03-22T18:44:25.768093Z"
    },
    "papermill": {
     "duration": 0.242539,
     "end_time": "2025-03-22T18:44:25.775647",
     "exception": false,
     "start_time": "2025-03-22T18:44:25.533108",
     "status": "completed"
    },
    "tags": []
   },
   "outputs": [
    {
     "name": "stderr",
     "output_type": "stream",
     "text": [
      "/usr/local/lib/python3.10/dist-packages/keras/src/layers/convolutional/base_conv.py:107: UserWarning: Do not pass an `input_shape`/`input_dim` argument to a layer. When using Sequential models, prefer using an `Input(shape)` object as the first layer in the model instead.\n",
      "  super().__init__(activity_regularizer=activity_regularizer, **kwargs)\n"
     ]
    },
    {
     "data": {
      "text/html": [
       "<pre style=\"white-space:pre;overflow-x:auto;line-height:normal;font-family:Menlo,'DejaVu Sans Mono',consolas,'Courier New',monospace\"><span style=\"font-weight: bold\">Model: \"sequential\"</span>\n",
       "</pre>\n"
      ],
      "text/plain": [
       "\u001b[1mModel: \"sequential\"\u001b[0m\n"
      ]
     },
     "metadata": {},
     "output_type": "display_data"
    },
    {
     "data": {
      "text/html": [
       "<pre style=\"white-space:pre;overflow-x:auto;line-height:normal;font-family:Menlo,'DejaVu Sans Mono',consolas,'Courier New',monospace\">┏━━━━━━━━━━━━━━━━━━━━━━━━━━━━━━━━━━━━━━┳━━━━━━━━━━━━━━━━━━━━━━━━━━━━━┳━━━━━━━━━━━━━━━━━┓\n",
       "┃<span style=\"font-weight: bold\"> Layer (type)                         </span>┃<span style=\"font-weight: bold\"> Output Shape                </span>┃<span style=\"font-weight: bold\">         Param # </span>┃\n",
       "┡━━━━━━━━━━━━━━━━━━━━━━━━━━━━━━━━━━━━━━╇━━━━━━━━━━━━━━━━━━━━━━━━━━━━━╇━━━━━━━━━━━━━━━━━┩\n",
       "│ conv2d (<span style=\"color: #0087ff; text-decoration-color: #0087ff\">Conv2D</span>)                      │ (<span style=\"color: #00d7ff; text-decoration-color: #00d7ff\">None</span>, <span style=\"color: #00af00; text-decoration-color: #00af00\">126</span>, <span style=\"color: #00af00; text-decoration-color: #00af00\">126</span>, <span style=\"color: #00af00; text-decoration-color: #00af00\">32</span>)        │             <span style=\"color: #00af00; text-decoration-color: #00af00\">896</span> │\n",
       "├──────────────────────────────────────┼─────────────────────────────┼─────────────────┤\n",
       "│ max_pooling2d (<span style=\"color: #0087ff; text-decoration-color: #0087ff\">MaxPooling2D</span>)         │ (<span style=\"color: #00d7ff; text-decoration-color: #00d7ff\">None</span>, <span style=\"color: #00af00; text-decoration-color: #00af00\">63</span>, <span style=\"color: #00af00; text-decoration-color: #00af00\">63</span>, <span style=\"color: #00af00; text-decoration-color: #00af00\">32</span>)          │               <span style=\"color: #00af00; text-decoration-color: #00af00\">0</span> │\n",
       "├──────────────────────────────────────┼─────────────────────────────┼─────────────────┤\n",
       "│ conv2d_1 (<span style=\"color: #0087ff; text-decoration-color: #0087ff\">Conv2D</span>)                    │ (<span style=\"color: #00d7ff; text-decoration-color: #00d7ff\">None</span>, <span style=\"color: #00af00; text-decoration-color: #00af00\">61</span>, <span style=\"color: #00af00; text-decoration-color: #00af00\">61</span>, <span style=\"color: #00af00; text-decoration-color: #00af00\">64</span>)          │          <span style=\"color: #00af00; text-decoration-color: #00af00\">18,496</span> │\n",
       "├──────────────────────────────────────┼─────────────────────────────┼─────────────────┤\n",
       "│ max_pooling2d_1 (<span style=\"color: #0087ff; text-decoration-color: #0087ff\">MaxPooling2D</span>)       │ (<span style=\"color: #00d7ff; text-decoration-color: #00d7ff\">None</span>, <span style=\"color: #00af00; text-decoration-color: #00af00\">30</span>, <span style=\"color: #00af00; text-decoration-color: #00af00\">30</span>, <span style=\"color: #00af00; text-decoration-color: #00af00\">64</span>)          │               <span style=\"color: #00af00; text-decoration-color: #00af00\">0</span> │\n",
       "├──────────────────────────────────────┼─────────────────────────────┼─────────────────┤\n",
       "│ conv2d_2 (<span style=\"color: #0087ff; text-decoration-color: #0087ff\">Conv2D</span>)                    │ (<span style=\"color: #00d7ff; text-decoration-color: #00d7ff\">None</span>, <span style=\"color: #00af00; text-decoration-color: #00af00\">28</span>, <span style=\"color: #00af00; text-decoration-color: #00af00\">28</span>, <span style=\"color: #00af00; text-decoration-color: #00af00\">128</span>)         │          <span style=\"color: #00af00; text-decoration-color: #00af00\">73,856</span> │\n",
       "├──────────────────────────────────────┼─────────────────────────────┼─────────────────┤\n",
       "│ max_pooling2d_2 (<span style=\"color: #0087ff; text-decoration-color: #0087ff\">MaxPooling2D</span>)       │ (<span style=\"color: #00d7ff; text-decoration-color: #00d7ff\">None</span>, <span style=\"color: #00af00; text-decoration-color: #00af00\">14</span>, <span style=\"color: #00af00; text-decoration-color: #00af00\">14</span>, <span style=\"color: #00af00; text-decoration-color: #00af00\">128</span>)         │               <span style=\"color: #00af00; text-decoration-color: #00af00\">0</span> │\n",
       "├──────────────────────────────────────┼─────────────────────────────┼─────────────────┤\n",
       "│ flatten (<span style=\"color: #0087ff; text-decoration-color: #0087ff\">Flatten</span>)                    │ (<span style=\"color: #00d7ff; text-decoration-color: #00d7ff\">None</span>, <span style=\"color: #00af00; text-decoration-color: #00af00\">25088</span>)               │               <span style=\"color: #00af00; text-decoration-color: #00af00\">0</span> │\n",
       "├──────────────────────────────────────┼─────────────────────────────┼─────────────────┤\n",
       "│ dense (<span style=\"color: #0087ff; text-decoration-color: #0087ff\">Dense</span>)                        │ (<span style=\"color: #00d7ff; text-decoration-color: #00d7ff\">None</span>, <span style=\"color: #00af00; text-decoration-color: #00af00\">128</span>)                 │       <span style=\"color: #00af00; text-decoration-color: #00af00\">3,211,392</span> │\n",
       "├──────────────────────────────────────┼─────────────────────────────┼─────────────────┤\n",
       "│ dropout (<span style=\"color: #0087ff; text-decoration-color: #0087ff\">Dropout</span>)                    │ (<span style=\"color: #00d7ff; text-decoration-color: #00d7ff\">None</span>, <span style=\"color: #00af00; text-decoration-color: #00af00\">128</span>)                 │               <span style=\"color: #00af00; text-decoration-color: #00af00\">0</span> │\n",
       "├──────────────────────────────────────┼─────────────────────────────┼─────────────────┤\n",
       "│ dense_1 (<span style=\"color: #0087ff; text-decoration-color: #0087ff\">Dense</span>)                      │ (<span style=\"color: #00d7ff; text-decoration-color: #00d7ff\">None</span>, <span style=\"color: #00af00; text-decoration-color: #00af00\">21</span>)                  │           <span style=\"color: #00af00; text-decoration-color: #00af00\">2,709</span> │\n",
       "└──────────────────────────────────────┴─────────────────────────────┴─────────────────┘\n",
       "</pre>\n"
      ],
      "text/plain": [
       "┏━━━━━━━━━━━━━━━━━━━━━━━━━━━━━━━━━━━━━━┳━━━━━━━━━━━━━━━━━━━━━━━━━━━━━┳━━━━━━━━━━━━━━━━━┓\n",
       "┃\u001b[1m \u001b[0m\u001b[1mLayer (type)                        \u001b[0m\u001b[1m \u001b[0m┃\u001b[1m \u001b[0m\u001b[1mOutput Shape               \u001b[0m\u001b[1m \u001b[0m┃\u001b[1m \u001b[0m\u001b[1m        Param #\u001b[0m\u001b[1m \u001b[0m┃\n",
       "┡━━━━━━━━━━━━━━━━━━━━━━━━━━━━━━━━━━━━━━╇━━━━━━━━━━━━━━━━━━━━━━━━━━━━━╇━━━━━━━━━━━━━━━━━┩\n",
       "│ conv2d (\u001b[38;5;33mConv2D\u001b[0m)                      │ (\u001b[38;5;45mNone\u001b[0m, \u001b[38;5;34m126\u001b[0m, \u001b[38;5;34m126\u001b[0m, \u001b[38;5;34m32\u001b[0m)        │             \u001b[38;5;34m896\u001b[0m │\n",
       "├──────────────────────────────────────┼─────────────────────────────┼─────────────────┤\n",
       "│ max_pooling2d (\u001b[38;5;33mMaxPooling2D\u001b[0m)         │ (\u001b[38;5;45mNone\u001b[0m, \u001b[38;5;34m63\u001b[0m, \u001b[38;5;34m63\u001b[0m, \u001b[38;5;34m32\u001b[0m)          │               \u001b[38;5;34m0\u001b[0m │\n",
       "├──────────────────────────────────────┼─────────────────────────────┼─────────────────┤\n",
       "│ conv2d_1 (\u001b[38;5;33mConv2D\u001b[0m)                    │ (\u001b[38;5;45mNone\u001b[0m, \u001b[38;5;34m61\u001b[0m, \u001b[38;5;34m61\u001b[0m, \u001b[38;5;34m64\u001b[0m)          │          \u001b[38;5;34m18,496\u001b[0m │\n",
       "├──────────────────────────────────────┼─────────────────────────────┼─────────────────┤\n",
       "│ max_pooling2d_1 (\u001b[38;5;33mMaxPooling2D\u001b[0m)       │ (\u001b[38;5;45mNone\u001b[0m, \u001b[38;5;34m30\u001b[0m, \u001b[38;5;34m30\u001b[0m, \u001b[38;5;34m64\u001b[0m)          │               \u001b[38;5;34m0\u001b[0m │\n",
       "├──────────────────────────────────────┼─────────────────────────────┼─────────────────┤\n",
       "│ conv2d_2 (\u001b[38;5;33mConv2D\u001b[0m)                    │ (\u001b[38;5;45mNone\u001b[0m, \u001b[38;5;34m28\u001b[0m, \u001b[38;5;34m28\u001b[0m, \u001b[38;5;34m128\u001b[0m)         │          \u001b[38;5;34m73,856\u001b[0m │\n",
       "├──────────────────────────────────────┼─────────────────────────────┼─────────────────┤\n",
       "│ max_pooling2d_2 (\u001b[38;5;33mMaxPooling2D\u001b[0m)       │ (\u001b[38;5;45mNone\u001b[0m, \u001b[38;5;34m14\u001b[0m, \u001b[38;5;34m14\u001b[0m, \u001b[38;5;34m128\u001b[0m)         │               \u001b[38;5;34m0\u001b[0m │\n",
       "├──────────────────────────────────────┼─────────────────────────────┼─────────────────┤\n",
       "│ flatten (\u001b[38;5;33mFlatten\u001b[0m)                    │ (\u001b[38;5;45mNone\u001b[0m, \u001b[38;5;34m25088\u001b[0m)               │               \u001b[38;5;34m0\u001b[0m │\n",
       "├──────────────────────────────────────┼─────────────────────────────┼─────────────────┤\n",
       "│ dense (\u001b[38;5;33mDense\u001b[0m)                        │ (\u001b[38;5;45mNone\u001b[0m, \u001b[38;5;34m128\u001b[0m)                 │       \u001b[38;5;34m3,211,392\u001b[0m │\n",
       "├──────────────────────────────────────┼─────────────────────────────┼─────────────────┤\n",
       "│ dropout (\u001b[38;5;33mDropout\u001b[0m)                    │ (\u001b[38;5;45mNone\u001b[0m, \u001b[38;5;34m128\u001b[0m)                 │               \u001b[38;5;34m0\u001b[0m │\n",
       "├──────────────────────────────────────┼─────────────────────────────┼─────────────────┤\n",
       "│ dense_1 (\u001b[38;5;33mDense\u001b[0m)                      │ (\u001b[38;5;45mNone\u001b[0m, \u001b[38;5;34m21\u001b[0m)                  │           \u001b[38;5;34m2,709\u001b[0m │\n",
       "└──────────────────────────────────────┴─────────────────────────────┴─────────────────┘\n"
      ]
     },
     "metadata": {},
     "output_type": "display_data"
    },
    {
     "data": {
      "text/html": [
       "<pre style=\"white-space:pre;overflow-x:auto;line-height:normal;font-family:Menlo,'DejaVu Sans Mono',consolas,'Courier New',monospace\"><span style=\"font-weight: bold\"> Total params: </span><span style=\"color: #00af00; text-decoration-color: #00af00\">3,307,349</span> (12.62 MB)\n",
       "</pre>\n"
      ],
      "text/plain": [
       "\u001b[1m Total params: \u001b[0m\u001b[38;5;34m3,307,349\u001b[0m (12.62 MB)\n"
      ]
     },
     "metadata": {},
     "output_type": "display_data"
    },
    {
     "data": {
      "text/html": [
       "<pre style=\"white-space:pre;overflow-x:auto;line-height:normal;font-family:Menlo,'DejaVu Sans Mono',consolas,'Courier New',monospace\"><span style=\"font-weight: bold\"> Trainable params: </span><span style=\"color: #00af00; text-decoration-color: #00af00\">3,307,349</span> (12.62 MB)\n",
       "</pre>\n"
      ],
      "text/plain": [
       "\u001b[1m Trainable params: \u001b[0m\u001b[38;5;34m3,307,349\u001b[0m (12.62 MB)\n"
      ]
     },
     "metadata": {},
     "output_type": "display_data"
    },
    {
     "data": {
      "text/html": [
       "<pre style=\"white-space:pre;overflow-x:auto;line-height:normal;font-family:Menlo,'DejaVu Sans Mono',consolas,'Courier New',monospace\"><span style=\"font-weight: bold\"> Non-trainable params: </span><span style=\"color: #00af00; text-decoration-color: #00af00\">0</span> (0.00 B)\n",
       "</pre>\n"
      ],
      "text/plain": [
       "\u001b[1m Non-trainable params: \u001b[0m\u001b[38;5;34m0\u001b[0m (0.00 B)\n"
      ]
     },
     "metadata": {},
     "output_type": "display_data"
    }
   ],
   "source": [
    "# TODO: You should implement the model architecture here.\n",
    "# Feel free to explore different model types that best serve your purpose.\n",
    "from sklearn.preprocessing import LabelEncoder\n",
    "\n",
    "# Assuming 'label' is the name of the column with categorical labels\n",
    "label_encoder = LabelEncoder()\n",
    "train_df['encoded_label'] = label_encoder.fit_transform(train_df['label'])\n",
    "def build_model(input_shape=(128, 128, 3), num_classes=10):\n",
    "    model = Sequential()\n",
    "    \n",
    "    # 1st Convolutional Block\n",
    "    model.add(Conv2D(32, (3, 3), activation='relu', input_shape=input_shape))\n",
    "    model.add(MaxPooling2D(pool_size=(2, 2)))\n",
    "    \n",
    "    # 2nd Convolutional Block\n",
    "    model.add(Conv2D(64, (3, 3), activation='relu'))\n",
    "    model.add(MaxPooling2D(pool_size=(2, 2)))\n",
    "    \n",
    "    # 3rd Convolutional Block\n",
    "    model.add(Conv2D(128, (3, 3), activation='relu'))\n",
    "    model.add(MaxPooling2D(pool_size=(2, 2)))\n",
    "    \n",
    "    # Flatten the output from Conv layers\n",
    "    model.add(Flatten())\n",
    "    \n",
    "    # Fully Connected Layer\n",
    "    model.add(Dense(128, activation='relu'))\n",
    "    model.add(Dropout(0.5))  # Dropout for regularization\n",
    "    \n",
    "    # Output Layer (for classification)\n",
    "    model.add(Dense(num_classes, activation='softmax'))  # 'softmax' for multi-class classification\n",
    "    \n",
    "    # Compile the model\n",
    "    model.compile(optimizer='adam', loss='categorical_crossentropy', metrics=['accuracy'])\n",
    "    \n",
    "    return model\n",
    "\n",
    "# Create the model with the desired input shape and number of classes\n",
    "model = build_model(input_shape=(128, 128, 3), num_classes=len(train_df['encoded_label'].unique()))\n",
    "\n",
    "# 3. Model Summary\n",
    "model.summary()"
   ]
  },
  {
   "cell_type": "markdown",
   "id": "5ddc3966",
   "metadata": {
    "papermill": {
     "duration": 0.011311,
     "end_time": "2025-03-22T18:44:25.798844",
     "exception": false,
     "start_time": "2025-03-22T18:44:25.787533",
     "status": "completed"
    },
    "tags": []
   },
   "source": [
    "# Loading images\n"
   ]
  },
  {
   "cell_type": "code",
   "execution_count": 17,
   "id": "a571f376",
   "metadata": {
    "execution": {
     "iopub.execute_input": "2025-03-22T18:44:25.822872Z",
     "iopub.status.busy": "2025-03-22T18:44:25.822532Z",
     "iopub.status.idle": "2025-03-22T18:44:47.955588Z",
     "shell.execute_reply": "2025-03-22T18:44:47.954378Z"
    },
    "papermill": {
     "duration": 22.146611,
     "end_time": "2025-03-22T18:44:47.957682",
     "exception": false,
     "start_time": "2025-03-22T18:44:25.811071",
     "status": "completed"
    },
    "tags": []
   },
   "outputs": [],
   "source": [
    "from tensorflow.keras.preprocessing import image  # Import the image module\n",
    "import os\n",
    "import numpy as np\n",
    "import pandas as pd\n",
    "def load_image(image_path, target_size=(128, 128)):\n",
    "    img = image.load_img(image_path, target_size=target_size)\n",
    "    img_array = image.img_to_array(img)\n",
    "    img_array = img_array / 255.0  # Normalize image\n",
    "    return img_array\n",
    "\n",
    "# Load images from the training dataset\n",
    "train_images = []\n",
    "train_labels = []\n",
    "image_dir = '/kaggle/input/bttai-ajl-2025/train/train/'\n",
    "\n",
    "for disease in os.listdir(image_dir):  # Loop through categories\n",
    "    disease_path = os.path.join(image_dir, disease)\n",
    "    \n",
    "    if os.path.isdir(disease_path):\n",
    "        for img_name in os.listdir(disease_path):\n",
    "            img_path = os.path.join(disease_path, img_name)\n",
    "            train_images.append(load_image(img_path))\n",
    "            train_labels.append(disease)  # Add disease name as label\n",
    "\n",
    "train_images = np.array(train_images)\n",
    "train_labels = np.array(train_labels)\n",
    "\n",
    "# Convert labels to numerical values\n",
    "train_labels = pd.get_dummies(train_labels).values"
   ]
  },
  {
   "cell_type": "markdown",
   "id": "436f99a0",
   "metadata": {
    "papermill": {
     "duration": 0.009852,
     "end_time": "2025-03-22T18:44:47.977717",
     "exception": false,
     "start_time": "2025-03-22T18:44:47.967865",
     "status": "completed"
    },
    "tags": []
   },
   "source": [
    "## 5. Train the Model\n"
   ]
  },
  {
   "cell_type": "code",
   "execution_count": 18,
   "id": "affd739a",
   "metadata": {
    "execution": {
     "iopub.execute_input": "2025-03-22T18:44:47.999522Z",
     "iopub.status.busy": "2025-03-22T18:44:47.999176Z",
     "iopub.status.idle": "2025-03-22T18:44:48.208678Z",
     "shell.execute_reply": "2025-03-22T18:44:48.207720Z"
    },
    "papermill": {
     "duration": 0.22239,
     "end_time": "2025-03-22T18:44:48.210658",
     "exception": false,
     "start_time": "2025-03-22T18:44:47.988268",
     "status": "completed"
    },
    "tags": []
   },
   "outputs": [],
   "source": [
    "X_train, X_val, y_train, y_val = train_test_split(train_images, train_labels, test_size=0.2, random_state=42)\n"
   ]
  },
  {
   "cell_type": "code",
   "execution_count": 19,
   "id": "17ff04a1",
   "metadata": {
    "execution": {
     "iopub.execute_input": "2025-03-22T18:44:48.232260Z",
     "iopub.status.busy": "2025-03-22T18:44:48.231881Z",
     "iopub.status.idle": "2025-03-22T18:45:01.893475Z",
     "shell.execute_reply": "2025-03-22T18:45:01.892249Z"
    },
    "papermill": {
     "duration": 13.674728,
     "end_time": "2025-03-22T18:45:01.895698",
     "exception": false,
     "start_time": "2025-03-22T18:44:48.220970",
     "status": "completed"
    },
    "tags": []
   },
   "outputs": [
    {
     "name": "stdout",
     "output_type": "stream",
     "text": [
      "(2288, 128, 128, 3) (572, 128, 128, 3) (2288, 21) (572, 21)\n"
     ]
    }
   ],
   "source": [
    "from sklearn.model_selection import train_test_split\n",
    "from tensorflow.keras.preprocessing.image import load_img, img_to_array\n",
    "import os\n",
    "from tensorflow.keras.utils import to_categorical\n",
    "\n",
    "# Define image size\n",
    "image_height = 128\n",
    "image_width = 128\n",
    "\n",
    "# Path to the training dataset (update this path)\n",
    "train_dir = '/kaggle/input/bttai-ajl-2025/train/train'  # Corrected path to the train directory\n",
    "\n",
    "# Get the categories (folder names) from the training directory\n",
    "categories = os.listdir(train_dir)\n",
    "\n",
    "# Initialize lists for images (X) and labels (y)\n",
    "X = []\n",
    "y = []\n",
    "\n",
    "# Loop over each category to load images and their corresponding labels\n",
    "for label, category in enumerate(categories):\n",
    "    category_path = os.path.join(train_dir, category)\n",
    "    for img_name in os.listdir(category_path):\n",
    "        img_path = os.path.join(category_path, img_name)\n",
    "        \n",
    "        # Load and resize image\n",
    "        img = load_img(img_path, target_size=(image_height, image_width))\n",
    "        \n",
    "        # Convert image to array\n",
    "        img_array = img_to_array(img)\n",
    "        \n",
    "        # Append image data to X and its corresponding label to y\n",
    "        X.append(img_array)\n",
    "        y.append(label)\n",
    "\n",
    "# Convert X and y to numpy arrays\n",
    "X = np.array(X)\n",
    "y = np.array(y)\n",
    "\n",
    "# Normalize the images (scale pixel values between 0 and 1)\n",
    "X = X / 255.0\n",
    "\n",
    "# One-hot encode the labels\n",
    "y_encoded = to_categorical(y, num_classes=len(categories))\n",
    "\n",
    "# Split the dataset into training and test (validation) sets\n",
    "X_train, X_test, y_train, y_test = train_test_split(X, y_encoded, test_size=0.2, random_state=42)\n",
    "\n",
    "# Check the shapes of the resulting arrays\n",
    "print(X_train.shape, X_test.shape, y_train.shape, y_test.shape)"
   ]
  },
  {
   "cell_type": "code",
   "execution_count": 20,
   "id": "2423ee17",
   "metadata": {
    "execution": {
     "iopub.execute_input": "2025-03-22T18:45:01.918601Z",
     "iopub.status.busy": "2025-03-22T18:45:01.918217Z",
     "iopub.status.idle": "2025-03-22T18:50:25.568597Z",
     "shell.execute_reply": "2025-03-22T18:50:25.567560Z"
    },
    "papermill": {
     "duration": 323.663705,
     "end_time": "2025-03-22T18:50:25.570368",
     "exception": false,
     "start_time": "2025-03-22T18:45:01.906663",
     "status": "completed"
    },
    "tags": []
   },
   "outputs": [
    {
     "name": "stderr",
     "output_type": "stream",
     "text": [
      "/usr/local/lib/python3.10/dist-packages/keras/src/layers/convolutional/base_conv.py:107: UserWarning: Do not pass an `input_shape`/`input_dim` argument to a layer. When using Sequential models, prefer using an `Input(shape)` object as the first layer in the model instead.\n",
      "  super().__init__(activity_regularizer=activity_regularizer, **kwargs)\n"
     ]
    },
    {
     "name": "stdout",
     "output_type": "stream",
     "text": [
      "Epoch 1/10\n",
      "\u001b[1m72/72\u001b[0m \u001b[32m━━━━━━━━━━━━━━━━━━━━\u001b[0m\u001b[37m\u001b[0m \u001b[1m32s\u001b[0m 420ms/step - accuracy: 0.1069 - loss: 3.3808 - val_accuracy: 0.1538 - val_loss: 2.7603\n",
      "Epoch 2/10\n",
      "\u001b[1m72/72\u001b[0m \u001b[32m━━━━━━━━━━━━━━━━━━━━\u001b[0m\u001b[37m\u001b[0m \u001b[1m30s\u001b[0m 414ms/step - accuracy: 0.1738 - loss: 2.7247 - val_accuracy: 0.1696 - val_loss: 2.6810\n",
      "Epoch 3/10\n",
      "\u001b[1m72/72\u001b[0m \u001b[32m━━━━━━━━━━━━━━━━━━━━\u001b[0m\u001b[37m\u001b[0m \u001b[1m30s\u001b[0m 414ms/step - accuracy: 0.2689 - loss: 2.4304 - val_accuracy: 0.2080 - val_loss: 2.5782\n",
      "Epoch 4/10\n",
      "\u001b[1m72/72\u001b[0m \u001b[32m━━━━━━━━━━━━━━━━━━━━\u001b[0m\u001b[37m\u001b[0m \u001b[1m30s\u001b[0m 415ms/step - accuracy: 0.4101 - loss: 1.9653 - val_accuracy: 0.1993 - val_loss: 2.7122\n",
      "Epoch 5/10\n",
      "\u001b[1m72/72\u001b[0m \u001b[32m━━━━━━━━━━━━━━━━━━━━\u001b[0m\u001b[37m\u001b[0m \u001b[1m30s\u001b[0m 412ms/step - accuracy: 0.5683 - loss: 1.4533 - val_accuracy: 0.2413 - val_loss: 2.8505\n",
      "Epoch 6/10\n",
      "\u001b[1m72/72\u001b[0m \u001b[32m━━━━━━━━━━━━━━━━━━━━\u001b[0m\u001b[37m\u001b[0m \u001b[1m30s\u001b[0m 417ms/step - accuracy: 0.7218 - loss: 1.0258 - val_accuracy: 0.2483 - val_loss: 3.1875\n",
      "Epoch 7/10\n",
      "\u001b[1m72/72\u001b[0m \u001b[32m━━━━━━━━━━━━━━━━━━━━\u001b[0m\u001b[37m\u001b[0m \u001b[1m41s\u001b[0m 421ms/step - accuracy: 0.8254 - loss: 0.6451 - val_accuracy: 0.2657 - val_loss: 3.7104\n",
      "Epoch 8/10\n",
      "\u001b[1m72/72\u001b[0m \u001b[32m━━━━━━━━━━━━━━━━━━━━\u001b[0m\u001b[37m\u001b[0m \u001b[1m30s\u001b[0m 413ms/step - accuracy: 0.8903 - loss: 0.4151 - val_accuracy: 0.2430 - val_loss: 3.9228\n",
      "Epoch 9/10\n",
      "\u001b[1m72/72\u001b[0m \u001b[32m━━━━━━━━━━━━━━━━━━━━\u001b[0m\u001b[37m\u001b[0m \u001b[1m29s\u001b[0m 403ms/step - accuracy: 0.9540 - loss: 0.2430 - val_accuracy: 0.2360 - val_loss: 4.5036\n",
      "Epoch 10/10\n",
      "\u001b[1m72/72\u001b[0m \u001b[32m━━━━━━━━━━━━━━━━━━━━\u001b[0m\u001b[37m\u001b[0m \u001b[1m42s\u001b[0m 413ms/step - accuracy: 0.9632 - loss: 0.1756 - val_accuracy: 0.2395 - val_loss: 5.2397\n"
     ]
    },
    {
     "data": {
      "text/plain": [
       "<keras.src.callbacks.history.History at 0x7b7ed6f51f30>"
      ]
     },
     "execution_count": 20,
     "metadata": {},
     "output_type": "execute_result"
    }
   ],
   "source": [
    "from tensorflow.keras.models import Sequential\n",
    "from tensorflow.keras.layers import Conv2D, MaxPooling2D, Flatten, Dense\n",
    "from tensorflow.keras.optimizers import Adam\n",
    "\n",
    "# Define the CNN model\n",
    "cnn_model = Sequential()\n",
    "\n",
    "# Add layers (you can modify this according to your needs)\n",
    "cnn_model.add(Conv2D(32, (3, 3), activation='relu', input_shape=(128, 128, 3)))\n",
    "cnn_model.add(MaxPooling2D(pool_size=(2, 2)))\n",
    "cnn_model.add(Conv2D(64, (3, 3), activation='relu'))\n",
    "cnn_model.add(MaxPooling2D(pool_size=(2, 2)))\n",
    "cnn_model.add(Flatten())\n",
    "cnn_model.add(Dense(128, activation='relu'))\n",
    "cnn_model.add(Dense(21, activation='softmax'))  # 21 classes for multi-class classification\n",
    "\n",
    "# Compile the model\n",
    "cnn_model.compile(optimizer=Adam(), loss='categorical_crossentropy', metrics=['accuracy'])\n",
    "\n",
    "# Now fit the model\n",
    "cnn_model.fit(X_train, y_train, epochs=10, batch_size=32, validation_data=(X_test, y_test))"
   ]
  },
  {
   "cell_type": "code",
   "execution_count": 21,
   "id": "a539b663",
   "metadata": {
    "execution": {
     "iopub.execute_input": "2025-03-22T18:50:25.677326Z",
     "iopub.status.busy": "2025-03-22T18:50:25.676921Z",
     "iopub.status.idle": "2025-03-22T18:56:13.301474Z",
     "shell.execute_reply": "2025-03-22T18:56:13.300367Z"
    },
    "papermill": {
     "duration": 347.679663,
     "end_time": "2025-03-22T18:56:13.303319",
     "exception": false,
     "start_time": "2025-03-22T18:50:25.623656",
     "status": "completed"
    },
    "tags": []
   },
   "outputs": [
    {
     "name": "stdout",
     "output_type": "stream",
     "text": [
      "Epoch 1/10\n",
      "\u001b[1m72/72\u001b[0m \u001b[32m━━━━━━━━━━━━━━━━━━━━\u001b[0m\u001b[37m\u001b[0m \u001b[1m30s\u001b[0m 421ms/step - accuracy: 0.9730 - loss: 0.1406 - val_accuracy: 0.2378 - val_loss: 5.1591\n",
      "Epoch 2/10\n",
      "\u001b[1m72/72\u001b[0m \u001b[32m━━━━━━━━━━━━━━━━━━━━\u001b[0m\u001b[37m\u001b[0m \u001b[1m30s\u001b[0m 416ms/step - accuracy: 0.9906 - loss: 0.0776 - val_accuracy: 0.2570 - val_loss: 6.1114\n",
      "Epoch 3/10\n",
      "\u001b[1m72/72\u001b[0m \u001b[32m━━━━━━━━━━━━━━━━━━━━\u001b[0m\u001b[37m\u001b[0m \u001b[1m41s\u001b[0m 424ms/step - accuracy: 0.9804 - loss: 0.0944 - val_accuracy: 0.2395 - val_loss: 5.6808\n",
      "Epoch 4/10\n",
      "\u001b[1m72/72\u001b[0m \u001b[32m━━━━━━━━━━━━━━━━━━━━\u001b[0m\u001b[37m\u001b[0m \u001b[1m30s\u001b[0m 415ms/step - accuracy: 0.9825 - loss: 0.0906 - val_accuracy: 0.2255 - val_loss: 6.1947\n",
      "Epoch 5/10\n",
      "\u001b[1m72/72\u001b[0m \u001b[32m━━━━━━━━━━━━━━━━━━━━\u001b[0m\u001b[37m\u001b[0m \u001b[1m42s\u001b[0m 426ms/step - accuracy: 0.9818 - loss: 0.1008 - val_accuracy: 0.2413 - val_loss: 6.1105\n",
      "Epoch 6/10\n",
      "\u001b[1m72/72\u001b[0m \u001b[32m━━━━━━━━━━━━━━━━━━━━\u001b[0m\u001b[37m\u001b[0m \u001b[1m31s\u001b[0m 429ms/step - accuracy: 0.9826 - loss: 0.0769 - val_accuracy: 0.2448 - val_loss: 6.2249\n",
      "Epoch 7/10\n",
      "\u001b[1m72/72\u001b[0m \u001b[32m━━━━━━━━━━━━━━━━━━━━\u001b[0m\u001b[37m\u001b[0m \u001b[1m30s\u001b[0m 411ms/step - accuracy: 0.9955 - loss: 0.0322 - val_accuracy: 0.2273 - val_loss: 6.4936\n",
      "Epoch 8/10\n",
      "\u001b[1m72/72\u001b[0m \u001b[32m━━━━━━━━━━━━━━━━━━━━\u001b[0m\u001b[37m\u001b[0m \u001b[1m42s\u001b[0m 421ms/step - accuracy: 0.9900 - loss: 0.0534 - val_accuracy: 0.2290 - val_loss: 6.5707\n",
      "Epoch 9/10\n",
      "\u001b[1m72/72\u001b[0m \u001b[32m━━━━━━━━━━━━━━━━━━━━\u001b[0m\u001b[37m\u001b[0m \u001b[1m41s\u001b[0m 423ms/step - accuracy: 0.9937 - loss: 0.0285 - val_accuracy: 0.2378 - val_loss: 6.6476\n",
      "Epoch 10/10\n",
      "\u001b[1m72/72\u001b[0m \u001b[32m━━━━━━━━━━━━━━━━━━━━\u001b[0m\u001b[37m\u001b[0m \u001b[1m30s\u001b[0m 420ms/step - accuracy: 0.9998 - loss: 0.0067 - val_accuracy: 0.2343 - val_loss: 6.4488\n"
     ]
    },
    {
     "data": {
      "text/plain": [
       "<keras.src.callbacks.history.History at 0x7b7ed6457f40>"
      ]
     },
     "execution_count": 21,
     "metadata": {},
     "output_type": "execute_result"
    }
   ],
   "source": [
    "from tensorflow.keras.utils import to_categorical\n",
    "# Now fit the model with y_train directly, as it should be one-hot encoded\n",
    "cnn_model.fit(X_train, y_train, epochs=10, batch_size=32, validation_data=(X_test, y_test))"
   ]
  },
  {
   "cell_type": "markdown",
   "id": "d8003222",
   "metadata": {
    "papermill": {
     "duration": 0.098218,
     "end_time": "2025-03-22T18:56:13.498579",
     "exception": false,
     "start_time": "2025-03-22T18:56:13.400361",
     "status": "completed"
    },
    "tags": []
   },
   "source": [
    "# Prediction Model"
   ]
  },
  {
   "cell_type": "code",
   "execution_count": 22,
   "id": "3a2ef526",
   "metadata": {
    "execution": {
     "iopub.execute_input": "2025-03-22T18:56:13.694761Z",
     "iopub.status.busy": "2025-03-22T18:56:13.694411Z",
     "iopub.status.idle": "2025-03-22T18:56:13.700317Z",
     "shell.execute_reply": "2025-03-22T18:56:13.699147Z"
    },
    "papermill": {
     "duration": 0.105973,
     "end_time": "2025-03-22T18:56:13.702082",
     "exception": false,
     "start_time": "2025-03-22T18:56:13.596109",
     "status": "completed"
    },
    "tags": []
   },
   "outputs": [],
   "source": [
    "import numpy as np\n",
    "from tensorflow.keras.preprocessing.image import load_img, img_to_array\n",
    "\n",
    "# Function to predict a new image\n",
    "def predict_new_image(image_path, model, categories):\n",
    "    # Load and preprocess the image\n",
    "    img = load_img(image_path, target_size=(128, 128))  # Resize to match training data\n",
    "    img_array = img_to_array(img)\n",
    "    img_array = img_array / 255.0  # Normalize\n",
    "    img_array = np.expand_dims(img_array, axis=0)  # Add batch dimension\n",
    "    \n",
    "    # Make prediction\n",
    "    predictions = model.predict(img_array)\n",
    "    predicted_class = np.argmax(predictions)  # Get class with highest probability\n",
    "    \n",
    "    # Get class label\n",
    "    class_label = categories[predicted_class]\n",
    "    \n",
    "    print(f\"Predicted class: {class_label}\")\n",
    "    return class_label\n"
   ]
  },
  {
   "cell_type": "markdown",
   "id": "05649775",
   "metadata": {
    "papermill": {
     "duration": 0.097962,
     "end_time": "2025-03-22T18:56:13.896089",
     "exception": false,
     "start_time": "2025-03-22T18:56:13.798127",
     "status": "completed"
    },
    "tags": []
   },
   "source": [
    "# make a submission"
   ]
  },
  {
   "cell_type": "code",
   "execution_count": 23,
   "id": "6954d3d6",
   "metadata": {
    "execution": {
     "iopub.execute_input": "2025-03-22T18:56:14.093132Z",
     "iopub.status.busy": "2025-03-22T18:56:14.092732Z",
     "iopub.status.idle": "2025-03-22T18:56:14.145679Z",
     "shell.execute_reply": "2025-03-22T18:56:14.144349Z"
    },
    "papermill": {
     "duration": 0.153081,
     "end_time": "2025-03-22T18:56:14.147533",
     "exception": false,
     "start_time": "2025-03-22T18:56:13.994452",
     "status": "completed"
    },
    "tags": []
   },
   "outputs": [
    {
     "name": "stdout",
     "output_type": "stream",
     "text": [
      "\n",
      "✅ Final submission file preview:\n",
      "                            md5hash                 label\n",
      "0  0844ae634f0e6e7ef1f73c2aeecbae0e         acne-vulgaris\n",
      "1  3b290d262098f761d719aa07cf36c040  basal-cell-carcinoma\n",
      "2  cf561d08ac46d0fda678bff6621005ee         acne-vulgaris\n",
      "3  e6371069be05c6b0a95b4b3f1bacc9a5    pyogenic-granuloma\n",
      "4  f76cddb37265f97508f159078dcc7e7c              melanoma\n",
      "\n",
      "🎉 Submission file saved successfully as 'submission.csv'!\n"
     ]
    }
   ],
   "source": [
    "import pandas as pd\n",
    "import numpy as np\n",
    "\n",
    "# Load datasets\n",
    "train_df = pd.read_csv('/kaggle/input/bttai-ajl-2025/train.csv')\n",
    "test_df = pd.read_csv('/kaggle/input/bttai-ajl-2025/test.csv')\n",
    "\n",
    "# Ensure the required columns exist in the test dataset\n",
    "if 'md5hash' not in test_df.columns:\n",
    "    raise ValueError(\"❌ ERROR: 'md5hash' column not found in test dataset!\")\n",
    "# class names listed out previously when going through class columns\n",
    "class_names = [\n",
    "    'squamous-cell-carcinoma',\n",
    "    'basal-cell-carcinoma',\n",
    "    'folliculitis',\n",
    "    'acne-vulgaris',\n",
    "    'melanoma',\n",
    "    'eczema',\n",
    "    'acne',\n",
    "    'mycosis-fungoides',\n",
    "    'actinic-keratosis',\n",
    "    'prurigo-nodularis',\n",
    "    'kaposi-sarcoma',\n",
    "    'keloid',\n",
    "    'dermatomyositis',\n",
    "    'superficial-spreading-melanoma-ssm',\n",
    "    'pyogenic-granuloma',\n",
    "    'malignant-melanoma',\n",
    "    'epidermal-nevus',\n",
    "    'dyshidrotic-eczema',\n",
    "    'dermatofibroma',\n",
    "    'seborrheic-keratosis',\n",
    "    'basal-cell-carcinoma-morpheiform'\n",
    "]\n",
    "test_df['label'] = np.random.choice(class_names, size=len(test_df))  # Replace with actual predictions\n",
    "\n",
    "# Create submission file with only 'md5hash' and 'label' columns\n",
    "submission_df = test_df[['md5hash', 'label']]\n",
    "\n",
    "# Save the submission file\n",
    "submission_df.to_csv('submission.csv', index=False)\n",
    "\n",
    "# Display confirmation\n",
    "print(\"\\n✅ Final submission file preview:\")\n",
    "print(submission_df.head())\n",
    "print(f\"\\n🎉 Submission file saved successfully as 'submission.csv'!\")"
   ]
  },
  {
   "cell_type": "code",
   "execution_count": null,
   "id": "e1c95f69",
   "metadata": {
    "papermill": {
     "duration": 0.09688,
     "end_time": "2025-03-22T18:56:14.341178",
     "exception": false,
     "start_time": "2025-03-22T18:56:14.244298",
     "status": "completed"
    },
    "tags": []
   },
   "outputs": [],
   "source": []
  }
 ],
 "metadata": {
  "kaggle": {
   "accelerator": "none",
   "dataSources": [
    {
     "databundleVersionId": 10898385,
     "sourceId": 90489,
     "sourceType": "competition"
    }
   ],
   "dockerImageVersionId": 30839,
   "isGpuEnabled": false,
   "isInternetEnabled": true,
   "language": "python",
   "sourceType": "notebook"
  },
  "kernelspec": {
   "display_name": "Python 3",
   "language": "python",
   "name": "python3"
  },
  "language_info": {
   "codemirror_mode": {
    "name": "ipython",
    "version": 3
   },
   "file_extension": ".py",
   "mimetype": "text/x-python",
   "name": "python",
   "nbconvert_exporter": "python",
   "pygments_lexer": "ipython3",
   "version": "3.10.12"
  },
  "papermill": {
   "default_parameters": {},
   "duration": 733.475004,
   "end_time": "2025-03-22T18:56:17.078467",
   "environment_variables": {},
   "exception": null,
   "input_path": "__notebook__.ipynb",
   "output_path": "__notebook__.ipynb",
   "parameters": {},
   "start_time": "2025-03-22T18:44:03.603463",
   "version": "2.6.0"
  }
 },
 "nbformat": 4,
 "nbformat_minor": 5
}
